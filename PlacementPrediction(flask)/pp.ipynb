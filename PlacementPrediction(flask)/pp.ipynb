{
  "nbformat": 4,
  "nbformat_minor": 0,
  "metadata": {
    "colab": {
      "provenance": []
    },
    "kernelspec": {
      "name": "python3",
      "display_name": "Python 3"
    },
    "language_info": {
      "name": "python"
    }
  },
  "cells": [
    {
      "cell_type": "code",
      "execution_count": 3,
      "metadata": {
        "colab": {
          "base_uri": "https://localhost:8080/"
        },
        "id": "3zTycGc_gCxS",
        "outputId": "333d5e72-53b7-468f-aa67-89975f000b75"
      },
      "outputs": [
        {
          "output_type": "stream",
          "name": "stdout",
          "text": [
            "['Placed']\n"
          ]
        },
        {
          "output_type": "stream",
          "name": "stderr",
          "text": [
            "/usr/local/lib/python3.10/dist-packages/sklearn/base.py:439: UserWarning: X does not have valid feature names, but DecisionTreeClassifier was fitted with feature names\n",
            "  warnings.warn(\n"
          ]
        }
      ],
      "source": [
        "import numpy as np\n",
        "import pandas as pd\n",
        "import pickle\n",
        "from sklearn.model_selection import train_test_split\n",
        "from sklearn.tree import DecisionTreeClassifier\n",
        "from sklearn import preprocessing\n",
        "\n",
        "df = pd.read_csv('Placement_Data_Full_Class.csv')\n",
        "\n",
        "x = df.drop('status', axis='columns')  # Drop the target column\n",
        "x = x.drop('sl_no', axis='columns')\n",
        "x = x.drop('salary', axis='columns')\n",
        "y = df['status']  # Target column\n",
        "\n",
        "# Apply Label Encoding to categorical columns\n",
        "le = preprocessing.LabelEncoder()\n",
        "x['gender'] = le.fit_transform(x['gender'])\n",
        "x['ssc_b'] = le.fit_transform(x['ssc_b'])\n",
        "x['hsc_b'] = le.fit_transform(x['hsc_b'])\n",
        "x['hsc_s'] = le.fit_transform(x['hsc_s'])\n",
        "x['degree_t'] = le.fit_transform(x['degree_t'])\n",
        "x['workex'] = le.fit_transform(x['workex'])\n",
        "x['specialisation'] = le.fit_transform(x['specialisation'])\n",
        "\n",
        "# Split the data into training and testing sets\n",
        "X_train, X_test, y_train, y_test = train_test_split(x, y, test_size=0.1, random_state=30)\n",
        "\n",
        "# Create and train a Decision Tree classifier\n",
        "classify = DecisionTreeClassifier(random_state=42)\n",
        "classify = classify.fit(X_train, y_train)\n",
        "\n",
        "# Save the trained model to a .pkl file\n",
        "with open('model.pkl', 'wb') as file:\n",
        "    pickle.dump(classify, file)\n",
        "\n",
        "# Load the trained model from the saved .pkl file\n",
        "loaded_model = pickle.load(open('model.pkl', 'rb'))\n",
        "\n",
        "# Example prediction using the loaded model\n",
        "prediction = loaded_model.predict([[1, 80.000000, 1, 70.000000, 1, 1, 72.000000, 2, 0, 87.000000, 1, 71.040000]])\n",
        "print(prediction)\n"
      ]
    }
  ]
}